{
 "cells": [
  {
   "cell_type": "markdown",
   "metadata": {
    "id": "op_mJFt7S4WG"
   },
   "source": [
    "# Homework 11\n",
    "## Due date: Friday, April 29 at 11:59pm in Gradescope\n",
    "\n",
    "\n",
    "#### - This assignment is worth 30 points."
   ]
  },
  {
   "cell_type": "code",
   "execution_count": 1,
   "metadata": {
    "executionInfo": {
     "elapsed": 1512,
     "status": "ok",
     "timestamp": 1636052263033,
     "user": {
      "displayName": "Amanda Lee",
      "photoUrl": "https://lh3.googleusercontent.com/a/default-user=s64",
      "userId": "05953256593132844086"
     },
     "user_tz": 420
    },
    "id": "-Dr6-wPuS4WM"
   },
   "outputs": [],
   "source": [
    "import numpy as np\n",
    "import matplotlib.pyplot as plt\n",
    "\n",
    "\n",
    "from copy import copy\n",
    "from time import time\n",
    "%matplotlib inline\n",
    "\n",
    "try:\n",
    "    %matplotlib inline\n",
    "except:\n",
    "    pass\n",
    "\n",
    "from scipy import integrate\n",
    "\n",
    "def trapezoid_method(a,b,n,f):\n",
    "    N = int(n)\n",
    "    xvals = np.linspace(a,b,N+1)\n",
    "    fvals = f(xvals)\n",
    "    dx = (b-a)/N\n",
    "    return dx/2.*(fvals[0] + fvals[N] + 2.*np.sum(fvals[1:N])) \n",
    "\n",
    "def simpson_method(a,b,n,f):\n",
    "    N = int(n)\n",
    "    xvals = np.linspace(a,b,N+1)\n",
    "    fvals = f(xvals)\n",
    "    dx = (b-a)/N\n",
    "    return dx/3.*(fvals[0] + fvals[N] + 2.*np.sum(fvals[2:N-1:2]) + 4.*np.sum(fvals[1:N:2]))\n",
    "\n",
    "def lfun(xvals,ii,x):\n",
    "    lval = np.ones(x.size)\n",
    "    n = xvals.size\n",
    "    for l in range(0,n):\n",
    "        if l != ii:\n",
    "            lval *= (x-xvals[l])/float(xvals[ii]-xvals[l])  \n",
    "    return lval\n",
    "\n",
    "def lagrange_interp(xvals,fvals,x):\n",
    "    n = fvals.size\n",
    "    ipoly = np.zeros(x.size)\n",
    "    for ii in range(0,n):\n",
    "        ipoly += fvals[ii]*lfun(xvals,ii,x)\n",
    "    return ipoly\n",
    "\n",
    "def cheby_nodes(n):\n",
    "    xcheb=np.zeros(n+1)\n",
    "    for jj in range(0,n+1):\n",
    "        xcheb[jj] = np.cos((2.*jj+1.)/(2.*n+2.)*np.pi)\n",
    "    return xcheb"
   ]
  },
  {
   "cell_type": "markdown",
   "metadata": {
    "id": "wPFsZS5PS4WN"
   },
   "source": [
    "### Problem 1 (3 points)\n",
    "Find the Lagrange interpolating polynomial of degree 3 that interpolates the following table of data points:\n",
    "$$\n",
    "\\begin{array}{r|r|r}\n",
    "i & x_{i} & f(x_i)\\\\\n",
    "\\hline\n",
    "0 & 10 & 227.04\\\\\n",
    "1 & 15 & 362.78\\\\\n",
    "2 & 20 & 517.35\\\\\n",
    "3 & 22.5 & 602.97\n",
    "\\end{array}\n",
    "$$\n",
    "You must show your work with $\\LaTeX$ to get full credit. It isn't necessary to completely simplify the polynomial to the most general form of $p(x) = ax^3 + bx^2 + cx +d$ to get full credit."
   ]
  },
  {
   "cell_type": "markdown",
   "metadata": {
    "id": "_n5vTDmUS4WO"
   },
   "source": [
    "### Problem 1 Solution\n",
    "$$\n",
    "L_{j}^{(n)}(x) = \\frac{\\prod_{l\\neq j}^{n}(x-x_{l})}{\\prod_{l\\neq j}^{n}(x_{j}-x_{l})}.\n",
    "$$\n",
    "$L^{(3)}_{0}(x) = \\frac{(x-x_{1})(x-x_{2})(x-x_{3})}{(x_{0}-x_{1})(x_{0}-x_{2})(x_{0}-x_{3})}$\n",
    "\n",
    "$L^{(3)}_{0}(x) = \\frac{(x-15)(x-20)(x-22.5)}{(10-15)(10-20)(10-22.5)}$\n",
    "\n",
    "$L^{(3)}_{0}(x) = -\\frac{x^3 - 57.5 x^2 + 1087.5 x - 6750}{625}$\n",
    "\n",
    ".\n",
    "\n",
    "$L^{(3)}_{1}(x) = \\frac{(x-x_{0})(x-x_{2})(x-x_{3})}{(x_{1}-x_{0})(x_{1}-x_{2})(x_{1}-x_{3})}$\n",
    "\n",
    "$L^{(3)}_{1}(x) = \\frac{(x-10)(x-20)(x-22.5)}{(15-10)(15-20)(15-22.5)}$\n",
    "\n",
    "$L^{(3)}_{1}(x) = \\frac{x^3 - 52.5 x^2 + 875 x - 4500}{187.5}$\n",
    "\n",
    ".\n",
    "\n",
    "$L^{(3)}_{2}(x) = \\frac{(x-x_{0})(x-x_{1})(x-x_{3})}{(x_{2}-x_{0})(x_{2}-x_{1})(x_{2}-x_{3})}$\n",
    "\n",
    "$L^{(3)}_{2}(x) = \\frac{(x-10)(x-15)(x-22.5)}{(20-10)(20-15)(20-22.5)}$\n",
    "\n",
    "$L^{(3)}_{2}(x) = -\\frac{x^3 - 47.5 x^2 + 712.5 x - 3375}{125}$\n",
    "\n",
    ".\n",
    "\n",
    "$L^{(3)}_{3}(x) = \\frac{(x-x_{0})(x-x_{1})(x-x_{2})}{(x_{3}-x_{0})(x_{3}-x_{1})(x_{3}-x_{2})}$\n",
    "\n",
    "$L^{(3)}_{3}(x) = \\frac{(x-10)(x-15)(x-20)}{(22.5-10)(22.5-15)(22.5-20)}$\n",
    "\n",
    "$L^{(3)}_{3}(x) = \\frac{x^3 - 45 x^2 + 650 x - 3000}{234.375}$\n",
    "\n",
    ". \n",
    "\n",
    "$p_3(x) = 227.04 * -\\frac{x^3 - 57.5 x^2 + 1087.5 x - 6750}{625} + 362.78 * \\frac{x^3 - 52.5 x^2 + 875 x - 4500}{187.5} + 517.35 * -\\frac{x^3 - 47.5 x^2 + 712.5 x - 3375}{125} + 602.97 * \\frac{x^3 - 45 x^2 + 650 x - 3000}{234.375}$\n"
   ]
  },
  {
   "cell_type": "markdown",
   "metadata": {
    "id": "0ebXByTOS4WR"
   },
   "source": [
    "### Problem 2 (6 points): \n",
    "\n",
    "Let $K$ be the maximum value of $\\left \\lvert f^{(4)}(x)\\right\\rvert$ on an interval $[a,b]$, then the error bound for Simpson method $E_S$ is: \n",
    "\n",
    "$$E_S = \\left\\lvert \\int_a^b f(x) \\ dx - S_n  \\right\\rvert \\leq \\frac{(b-a)^5 K }{180 \\ n^4}$$\n",
    "\n",
    "Let $f(x) = \\cos(x-x^2)$, \n",
    "\n",
    "##### (a) \n",
    "\n",
    "Write down an expression for $f^{(4)}(x)$ (you are **not** required to show work).  Note that $f^{(4)}(x)$ represents the fourth derivative of the function $f(x)$."
   ]
  },
  {
   "cell_type": "code",
   "execution_count": 2,
   "metadata": {},
   "outputs": [],
   "source": [
    "### (a) Solution\n",
    "f4 = lambda x: (16*x^4 - 32*x^3 + 24*x^2 - 8*x - 11) * np.cos((x - 1)* x) + 12*(1 - 2*x)^2 * np.sin((x - 1)* x)"
   ]
  },
  {
   "cell_type": "markdown",
   "metadata": {
    "id": "0ebXByTOS4WR"
   },
   "source": [
    "##### (b) \n",
    "\n",
    "Write a program to compute the maximum value of $\\left \\lvert f^{(4)}(x)\\right\\rvert$ on the interval $[0,1]$. What is the maximum value?"
   ]
  },
  {
   "cell_type": "code",
   "execution_count": 3,
   "metadata": {
    "colab": {
     "base_uri": "https://localhost:8080/"
    },
    "executionInfo": {
     "elapsed": 223,
     "status": "ok",
     "timestamp": 1636053479357,
     "user": {
      "displayName": "Amanda Lee",
      "photoUrl": "https://lh3.googleusercontent.com/a/default-user=s64",
      "userId": "05953256593132844086"
     },
     "user_tz": 420
    },
    "id": "tRuFq9zrS4WT",
    "outputId": "9c34873d-c45f-489b-b92d-837faf53930d"
   },
   "outputs": [
    {
     "name": "stdout",
     "output_type": "stream",
     "text": [
      "Our root is: 0.500000000000000\n",
      "None\n"
     ]
    }
   ],
   "source": [
    "### (b) Solution\n",
    "f5 = lambda x: -(1 - 2*x)*(20 *(1 - 2*x)**2 *np.cos((x - 1)*x) - (16*x**4 - 32*x**3 + 24*x**2 - 8*x - 59)*np.sin((x - 1)*x))\n",
    "def bisec_method(a,b,f,tol):\n",
    "    fa,fb = f(a),f(b)\n",
    "    \n",
    "    if fa*fb<0:\n",
    "        c = (a+b)/2.\n",
    "        capproxs = np.array([c])\n",
    "        fc = f(c)\n",
    "        while np.abs(fc)>=tol:\n",
    "            if fa*fc<0:\n",
    "                b = c\n",
    "            else:\n",
    "                a = c\n",
    "          \n",
    "            c = (a+b)/2.\n",
    "            capproxs = np.append(capproxs,c)\n",
    "            fc = f(c)\n",
    "     \n",
    "        print(\"Our root is: %1.15f\" %c)\n",
    "    else:\n",
    "        print(\"Cannot ensure existence of root.\")\n",
    "a=0\n",
    "b=1\n",
    "tol = 1e-6\n",
    "print(bisec_method(a,b,f5,tol))"
   ]
  },
  {
   "cell_type": "markdown",
   "metadata": {
    "id": "0ebXByTOS4WR"
   },
   "source": [
    "##### (c) \n",
    "\n",
    "How large must the value of $n$ be in the approximation $S_n$ of $\\int_0^1 f(x) \\ dx$ by Simpson's rule to ensure that the absolute error is less than $10^{-4}$?"
   ]
  },
  {
   "cell_type": "code",
   "execution_count": 4,
   "metadata": {
    "id": "_ugf12IRS4WU",
    "scrolled": true
   },
   "outputs": [
    {
     "name": "stdout",
     "output_type": "stream",
     "text": [
      "2.295800000000514\n",
      "1.0E-04\n"
     ]
    }
   ],
   "source": [
    "### (c) Solution\n",
    "\n",
    "\n",
    "a=0\n",
    "b=1\n",
    "n=1\n",
    "k=.5\n",
    "\n",
    "def errorBound():\n",
    "    return ((b-a)**5*k)/(180*n**4)\n",
    "while errorBound()>1.00e-4:\n",
    "    n=n+.0001\n",
    "print(n)\n",
    "print(format(errorBound(),'.1E'))"
   ]
  },
  {
   "cell_type": "markdown",
   "metadata": {
    "id": "0ebXByTOS4WR"
   },
   "source": [
    "##### (d) \n",
    "\n",
    "Write a program to compute the integral $\\int_0^1 f(x) \\ dx$  using Simpson's method with the value of $n$ obtained in part (c)."
   ]
  },
  {
   "cell_type": "code",
   "execution_count": 5,
   "metadata": {
    "id": "cHLEZCvJS4WV",
    "outputId": "7226d9d1-93ee-4605-fe8d-774d9a20b7c7"
   },
   "outputs": [
    {
     "name": "stdout",
     "output_type": "stream",
     "text": [
      "0.9792749478070963\n"
     ]
    }
   ],
   "source": [
    "### (d) Solution\n",
    "f = lambda x: np.cos(x-x**2)\n",
    "a = 0\n",
    "b = 1\n",
    "n = 2.295800000000514\n",
    "print(simpson_method(a,b,n,f))"
   ]
  },
  {
   "cell_type": "markdown",
   "metadata": {
    "id": "0ebXByTOS4WR"
   },
   "source": [
    "##### (e) \n",
    "\n",
    "Use the `quad` function from `scipy` to obtain an \"exact\" solution for $\\int_0^1 f(x) \\ dx$."
   ]
  },
  {
   "cell_type": "code",
   "execution_count": 6,
   "metadata": {
    "id": "w3n6uRbPS4WV",
    "outputId": "2d2c70ef-0d6f-428e-df4a-ef9aee6119cb"
   },
   "outputs": [
    {
     "name": "stdout",
     "output_type": "stream",
     "text": [
      "(0.9833993553876421, 1.0917926067528972e-14)\n"
     ]
    }
   ],
   "source": [
    "### (e) Solution\n",
    "i = integrate.quad(f, 0, 1)\n",
    "print(i)"
   ]
  },
  {
   "cell_type": "markdown",
   "metadata": {
    "id": "0ebXByTOS4WR"
   },
   "source": [
    "##### (f) \n",
    "\n",
    "Compare the \"exact\" solution from part (d) to the computed solution from part (c). Does it agree with your estimates in part (c)? How many decimals of precision does your solution from (c) have?"
   ]
  },
  {
   "cell_type": "markdown",
   "metadata": {
    "id": "bewQerZjS4WW",
    "outputId": "3334eca1-4fcd-4eb2-8799-6b0b4a0bc805"
   },
   "source": [
    "### (f) Solution\n",
    "Its close but not extremely accurate. my solution is only precise to 0.1."
   ]
  },
  {
   "cell_type": "markdown",
   "metadata": {
    "id": "d6Cz9asUS4Wa"
   },
   "source": [
    "### Problem 3 (6 points)\n",
    "\n",
    "Assuming that $f(x)$ is given as follows:\n",
    "$$\n",
    "f(x) = \\frac{7x}{2x^{2} + 1}, ~ -1 \\leq x \\leq 1\n",
    "$$\n",
    "\n",
    "##### (a)  \n",
    "\n",
    "Using an equispaced set of $25$ nodes, generate the Lagrange interpolating polynomial to $f(x)$ and use it to interpolate `x = np.linspace(-1,1,2000)`. \n",
    "\n",
    "Generate a plot which shows how the error in your approximation varies over the interval $[-1,1]$."
   ]
  },
  {
   "cell_type": "code",
   "execution_count": 7,
   "metadata": {
    "id": "ekfH6VIUS4Wb",
    "outputId": "9b78f4ff-82a7-48e2-c8e8-64b7c5d84fe2"
   },
   "outputs": [
    {
     "name": "stdout",
     "output_type": "stream",
     "text": [
      "[-2.33333333 -2.33429628 -2.33524211 ...  2.33524211  2.33429628\n",
      "  2.33333333]\n"
     ]
    },
    {
     "data": {
      "text/plain": [
       "[<matplotlib.lines.Line2D at 0x2ac2a987f10>]"
      ]
     },
     "execution_count": 7,
     "metadata": {},
     "output_type": "execute_result"
    },
    {
     "data": {
      "image/png": "[encoded data removed]",
      "text/plain": [
       "<Figure size 432x288 with 1 Axes>"
      ]
     },
     "metadata": {
      "needs_background": "light"
     },
     "output_type": "display_data"
    }
   ],
   "source": [
    "### (a) Solution\n",
    "def lfun(xvals,jj,x):\n",
    "    lval = np.ones(x.size)\n",
    "    # Insert code here\n",
    "    n = xvals.size\n",
    "    for l in range(0,n):\n",
    "        if l != jj:\n",
    "            lval *= (x-xvals[l])/(xvals[jj]-xvals[l])  \n",
    "\n",
    "    return lval\n",
    "\n",
    "def lagran_interp(xvals,fvals,x):\n",
    "    n = fvals.size\n",
    "    # Insert code here \n",
    "    ipoly = np.zeros(x.size)\n",
    "    for jj in range(0,n):\n",
    "        ipoly += fvals[jj]*lfun(xvals,jj,x)\n",
    "   \n",
    "    return ipoly\n",
    "\n",
    "\n",
    "f = lambda x: (7*x)/(2*x**2 + 1)\n",
    "\n",
    "xvals = np.linspace(-1,1,25)\n",
    "fvals = f(xvals)\n",
    "x = np.linspace(-1,1,2000)\n",
    "yinterp = lagran_interp(xvals,fvals,x)\n",
    "print(yinterp)\n",
    "ftrue = (7*x)/(2*x**2 + 1)\n",
    "\n",
    "plt.plot(x,np.ma.log10(np.abs(ftrue-yinterp)),ls='-',color='k')\n"
   ]
  },
  {
   "cell_type": "markdown",
   "metadata": {
    "id": "d6Cz9asUS4Wa"
   },
   "source": [
    "##### (b)\n",
    "\n",
    "What is the degree of the Lagrange interpolating polynomial in part (a)."
   ]
  },
  {
   "cell_type": "markdown",
   "metadata": {
    "id": "sC45p5MXS4Wc"
   },
   "source": [
    "### (b) Solution\n",
    "24th degree polynomial"
   ]
  },
  {
   "cell_type": "markdown",
   "metadata": {
    "id": "d6Cz9asUS4Wa"
   },
   "source": [
    "##### (c)\n",
    "\n",
    "Compare the graph of f(x) with that of the of the Lagrange interpolating polynomial from part (a) for `x = np.linspace(-1,1,2000)` by plotting both graphs on the same figure."
   ]
  },
  {
   "cell_type": "code",
   "execution_count": 8,
   "metadata": {
    "id": "Js4xlCYPS4Wc",
    "outputId": "1ddcde6a-675a-4c1e-a41f-cce4914b2c00"
   },
   "outputs": [
    {
     "name": "stdout",
     "output_type": "stream",
     "text": [
      "[-2.33333333 -2.33429628 -2.33524211 ...  2.33524211  2.33429628\n",
      "  2.33333333]\n"
     ]
    },
    {
     "data": {
      "text/plain": [
       "Text(0, 0.5, '$f_{24}(x)$')"
      ]
     },
     "execution_count": 8,
     "metadata": {},
     "output_type": "execute_result"
    },
    {
     "data": {
      "image/png": "[encoded data removed]",
      "text/plain": [
       "<Figure size 432x288 with 1 Axes>"
      ]
     },
     "metadata": {
      "needs_background": "light"
     },
     "output_type": "display_data"
    }
   ],
   "source": [
    "### (c) Solution\n",
    "xvals = np.linspace(-1,1,25)\n",
    "fvals = f(xvals)\n",
    "x = np.linspace(-1,1,2000)\n",
    "yinterp = lagran_interp(xvals,fvals,x)\n",
    "print(yinterp)\n",
    "plt.plot(x,yinterp,'*')\n",
    "plt.plot(xvals,fvals, '*')\n",
    "plt.xlabel('$x$')\n",
    "plt.ylabel('$f_{24}(x)$')"
   ]
  },
  {
   "cell_type": "markdown",
   "metadata": {
    "id": "d6Cz9asUS4Wa"
   },
   "source": [
    "##### (d)  \n",
    "\n",
    "Using an equispaced set of $250$ nodes, generate the Lagrange interpolating polynomial to $f(x)$ and use it to interpolate `x = np.linspace(-1,1,2000)`.  \n",
    "Generate a plot which shows how the error in your approximation varies over the interval.  "
   ]
  },
  {
   "cell_type": "code",
   "execution_count": 9,
   "metadata": {
    "id": "lbxbwUEhS4Wc",
    "outputId": "1f976d7f-dfc2-40ca-8494-7caf2576099c"
   },
   "outputs": [
    {
     "name": "stdout",
     "output_type": "stream",
     "text": [
      "[-2.33333333e+00 -2.17158611e+55 -3.84996051e+55 ... -7.80123222e+53\n",
      " -2.31978049e+55  2.33333333e+00]\n"
     ]
    },
    {
     "data": {
      "text/plain": [
       "[<matplotlib.lines.Line2D at 0x2ac2b28b940>]"
      ]
     },
     "execution_count": 9,
     "metadata": {},
     "output_type": "execute_result"
    },
    {
     "data": {
      "image/png": "[encoded data removed]",
      "text/plain": [
       "<Figure size 432x288 with 1 Axes>"
      ]
     },
     "metadata": {
      "needs_background": "light"
     },
     "output_type": "display_data"
    }
   ],
   "source": [
    "### (d) Solution\n",
    "xvals = np.linspace(-1,1,250)\n",
    "fvals = f(xvals)\n",
    "x = np.linspace(-1,1,2000)\n",
    "yinterp = lagran_interp(xvals,fvals,x)\n",
    "print(yinterp)\n",
    "ftrue = (7*x)/(2*x**2 + 1)\n",
    "\n",
    "plt.plot(x,np.ma.log10(np.abs(ftrue-yinterp)),ls='-',color='k')"
   ]
  },
  {
   "cell_type": "markdown",
   "metadata": {
    "id": "d6Cz9asUS4Wa"
   },
   "source": [
    "##### (e)\n",
    "\n",
    "What is the degree of the Lagrange interpolating polynomial in part (d)."
   ]
  },
  {
   "cell_type": "markdown",
   "metadata": {
    "id": "IRjC05csS4Wd"
   },
   "source": [
    "### (e) Solution\n",
    "249"
   ]
  },
  {
   "cell_type": "markdown",
   "metadata": {
    "id": "d6Cz9asUS4Wa"
   },
   "source": [
    "##### (f)\n",
    "\n",
    "Compare the graph of f(x) with that of the Lagrange interpolating polynomial from (d) for `x = np.linspace(-1,1,2000)` by plotting both graphs on the same figure."
   ]
  },
  {
   "cell_type": "code",
   "execution_count": 10,
   "metadata": {
    "id": "0AFfBMAoS4Wd",
    "outputId": "070e79fd-8c62-4613-8d2d-96da5d5eae56"
   },
   "outputs": [
    {
     "data": {
      "image/png": "[encoded data removed]",
      "text/plain": [
       "<Figure size 432x288 with 1 Axes>"
      ]
     },
     "metadata": {
      "needs_background": "light"
     },
     "output_type": "display_data"
    }
   ],
   "source": [
    "### (f) Solution\n",
    "xvals = np.linspace(-1,1,250)\n",
    "fvals = f(xvals)\n",
    "x = np.linspace(-1,1,2000)\n",
    "yinterp = lagran_interp(xvals,fvals,x)\n",
    "\n",
    "plt.plot(x,yinterp,'*')\n",
    "plt.plot(xvals,fvals, '*')\n",
    "plt.xlabel('$x$')\n",
    "plt.ylabel('$f_{24}(x)$')\n",
    "plt.show()\n"
   ]
  },
  {
   "cell_type": "markdown",
   "metadata": {
    "id": "udYqRbemS4We"
   },
   "source": [
    "### Problem 4 (5 points)\n",
    "\n",
    "Assuming that $f(x)$ is given as follows:\n",
    "$$\n",
    "f(x) = \\frac{7x}{2x^{2} + 1}, ~ -1 \\leq x \\leq 1\n",
    "$$\n",
    "\n",
    "##### (a)  \n",
    "\n",
    "Using a Chebyshev-spaced set of $25$ nodes, generate the Lagrange interpolating polynomial to $f(x)$ and use it to interpolate `x = np.linspace(-1,1,2000)`. \n",
    "\n",
    "Generate a plot which shows how the error in your approximation varies over the interval $[-1,1]$ as presented in the video."
   ]
  },
  {
   "cell_type": "code",
   "execution_count": 11,
   "metadata": {
    "id": "2QDtLUz3S4Wf",
    "outputId": "340d4acf-5617-4d10-965d-26909cacb09a",
    "scrolled": false
   },
   "outputs": [
    {
     "data": {
      "text/plain": [
       "[<matplotlib.lines.Line2D at 0x2ac2c355040>]"
      ]
     },
     "execution_count": 11,
     "metadata": {},
     "output_type": "execute_result"
    },
    {
     "data": {
      "image/png": "[encoded data removed]",
      "text/plain": [
       "<Figure size 432x288 with 1 Axes>"
      ]
     },
     "metadata": {
      "needs_background": "light"
     },
     "output_type": "display_data"
    }
   ],
   "source": [
    "def cheby_nodes(n):\n",
    "    xcheb=np.zeros(n+1)\n",
    "    for jj in range(0,n+1):\n",
    "        xcheb[jj] = np.cos((2.*jj+1.)/(2.*n+2.)*np.pi)\n",
    "    return xcheb\n",
    "\n",
    "### (a) Solution\n",
    "\n",
    "f = lambda x: (7*x)/(2*x**2 + 1)\n",
    "\n",
    "x = np.linspace(-1,1,2000)\n",
    "xcheb = cheby_nodes(25)\n",
    "fcheb = f(xcheb)\n",
    "finterp = lagran_interp(xcheb,fcheb,x)\n",
    "ftrue = (7*x)/(2*x**2 + 1)\n",
    "\n",
    "plt.plot(x,np.ma.log10(np.abs(ftrue-finterp)),ls='-',color='k')"
   ]
  },
  {
   "cell_type": "markdown",
   "metadata": {
    "id": "udYqRbemS4We"
   },
   "source": [
    "##### (b)\n",
    "\n",
    "Compare the graph of f(x) with that of the Lagrange interpolating polynomial from (a) for `x = np.linspace(-1,1,2000)` by plotting both graphs on the same figure."
   ]
  },
  {
   "cell_type": "code",
   "execution_count": 12,
   "metadata": {
    "id": "YOg2CHTbS4Wf",
    "outputId": "9b9f1e07-9664-4c56-df89-dd8420042ee9",
    "scrolled": false
   },
   "outputs": [
    {
     "data": {
      "text/plain": [
       "Text(0, 0.5, '$f_{24}(x)$')"
      ]
     },
     "execution_count": 12,
     "metadata": {},
     "output_type": "execute_result"
    },
    {
     "data": {
      "image/png": "[encoded data removed]",
      "text/plain": [
       "<Figure size 432x288 with 1 Axes>"
      ]
     },
     "metadata": {
      "needs_background": "light"
     },
     "output_type": "display_data"
    }
   ],
   "source": [
    "### (b) Solution\n",
    "x = np.linspace(-1,1,2000)\n",
    "xcheb = cheby_nodes(25)\n",
    "fcheb = f(xcheb)\n",
    "finterp = lagran_interp(xcheb,fcheb,x)\n",
    "\n",
    "plt.plot(x,finterp,'*')\n",
    "plt.plot(xcheb,fcheb, '*')\n",
    "plt.xlabel('$x$')\n",
    "plt.ylabel('$f_{24}(x)$')"
   ]
  },
  {
   "cell_type": "markdown",
   "metadata": {
    "id": "udYqRbemS4We"
   },
   "source": [
    "##### (c)\n",
    "\n",
    "Using `non-equispaced` set of $250$ nodes, generate the Lagrange interpolating polynomial to $f(x)$ and use it to interpolate `x = np.linspace(-1,1,2000)`.  \n",
    "Generate a plot which shows how the error in your approximation varies over the interval.  "
   ]
  },
  {
   "cell_type": "code",
   "execution_count": 13,
   "metadata": {
    "id": "YUKWCduGS4Wf",
    "outputId": "f750cfd1-d9f9-4fd3-dd38-f1509a34ca41"
   },
   "outputs": [
    {
     "data": {
      "text/plain": [
       "[<matplotlib.lines.Line2D at 0x2ac2c2e24f0>]"
      ]
     },
     "execution_count": 13,
     "metadata": {},
     "output_type": "execute_result"
    },
    {
     "data": {
      "image/png": "[encoded data removed]",
      "text/plain": [
       "<Figure size 432x288 with 1 Axes>"
      ]
     },
     "metadata": {
      "needs_background": "light"
     },
     "output_type": "display_data"
    }
   ],
   "source": [
    "# (c) Solution\n",
    "x = np.linspace(-1,1,2000)\n",
    "xcheb = cheby_nodes(250)\n",
    "fcheb = f(xcheb)\n",
    "finterp = lagran_interp(xcheb,fcheb,x)\n",
    "ftrue = (7*x)/(2*x**2 + 1)\n",
    "\n",
    "plt.plot(x,np.ma.log10(np.abs(ftrue-finterp)),ls='-',color='k')"
   ]
  },
  {
   "cell_type": "markdown",
   "metadata": {
    "id": "udYqRbemS4We"
   },
   "source": [
    "##### (d)\n",
    "\n",
    "Compare the graph of $f(x)$ with that of the Lagrange interpolating polynomial from (c) for `x = np.linspace(-1,1,2000)` by plotting both graphs on the same figure."
   ]
  },
  {
   "cell_type": "code",
   "execution_count": 14,
   "metadata": {
    "id": "AkiyeyMfS4Wg",
    "outputId": "613fa300-2ad8-43df-cd6a-5e0b5e63ddfb"
   },
   "outputs": [
    {
     "data": {
      "text/plain": [
       "Text(0, 0.5, '$f_{24}(x)$')"
      ]
     },
     "execution_count": 14,
     "metadata": {},
     "output_type": "execute_result"
    },
    {
     "data": {
      "image/png": "[encoded data removed]",
      "text/plain": [
       "<Figure size 432x288 with 1 Axes>"
      ]
     },
     "metadata": {
      "needs_background": "light"
     },
     "output_type": "display_data"
    }
   ],
   "source": [
    "# (d) Solution\n",
    "x = np.linspace(-1,1,2000)\n",
    "xcheb = cheby_nodes(250)\n",
    "fcheb = f(xcheb)\n",
    "finterp = lagran_interp(xcheb,fcheb,x)\n",
    "\n",
    "plt.plot(x,finterp,'*')\n",
    "plt.plot(xcheb,fcheb, '*')\n",
    "plt.xlabel('$x$')\n",
    "plt.ylabel('$f_{24}(x)$')"
   ]
  },
  {
   "cell_type": "markdown",
   "metadata": {
    "id": "udYqRbemS4We"
   },
   "source": [
    "##### (e)\n",
    "\n",
    "Compare your results from Problem 4 to Problem 3. Explain your findings."
   ]
  },
  {
   "cell_type": "markdown",
   "metadata": {
    "id": "X22qF9CyS4Wg"
   },
   "source": [
    "### (e) Solution\n",
    "both of the estimations were good with 25 points, but when incresed to 250 points, the equally spaced points had much more error, whereas the chevychev points were and even better approximation. This is likely due to Runge's phenomenon."
   ]
  },
  {
   "cell_type": "markdown",
   "metadata": {
    "id": "Y8UAnj9NS4Wg"
   },
   "source": [
    "### Problem 5 (6 points)\n",
    "\n",
    "The Hermite polynomials $H_{n}(x)$ are defined such that $H_{0}(x)=1$, $H_{1}(x)=2x$, and for $n\\geq2$, $H_{n}(x)$ satisfies the recurrence relationship\n",
    "\n",
    "$$\n",
    "H_{n}(x) = 2xH_{n-1}(x) -2(n-1)H_{n-2}(x), ~ n\\geq 2. \n",
    "$$\n",
    "\n",
    "##### (a) \n",
    "\n",
    "Write a recursive program to find any Hermite polynomial $H_{n}(x)$. "
   ]
  },
  {
   "cell_type": "code",
   "execution_count": 15,
   "metadata": {},
   "outputs": [],
   "source": [
    "### (a) Solution \n",
    "def herm(n,x):\n",
    "    if n >= 2:\n",
    "        return 2*x*herm(n-1,x) - 2*(n-1)*herm(n-2,x)\n",
    "    elif n == 1:\n",
    "        return 2*x\n",
    "    else:\n",
    "        return 1\n"
   ]
  },
  {
   "cell_type": "markdown",
   "metadata": {
    "id": "Y8UAnj9NS4Wg"
   },
   "source": [
    "##### (b) \n",
    "\n",
    "Generate a plot of the first six Hermite polyonmials on the interval $-3\\leq x \\leq 3$.  Your figure should be labeled, have a legend, and different colors should be used to distinguish the different Hermite polynmials in the plot. Also be sure to restrict the $y$ limits of the plot to get a better sense of the shape of each polynomial. "
   ]
  },
  {
   "cell_type": "code",
   "execution_count": 16,
   "metadata": {},
   "outputs": [
    {
     "data": {
      "image/png": "[encoded data removed]",
      "text/plain": [
       "<Figure size 432x288 with 1 Axes>"
      ]
     },
     "metadata": {
      "needs_background": "light"
     },
     "output_type": "display_data"
    }
   ],
   "source": [
    "### (b) Solution\n",
    "xvals = np.linspace(-3,3,1000)\n",
    "n = 1\n",
    "while n <= 6:\n",
    "    yvals = [herm(n,x) for x in xvals]\n",
    "    plt.plot(xvals,yvals)\n",
    "    n = n+1\n",
    "plt.ylim([-1000, 1000])\n",
    "plt.xlabel('$x$')\n",
    "plt.ylabel('$H_{n}(x)$')\n",
    "plt.legend(['n=1','n=2','n=3','n=4','n=5','n=6'])\n",
    "plt.show()\n"
   ]
  },
  {
   "cell_type": "markdown",
   "metadata": {},
   "source": [
    "### Problem 6 (4 points)\n",
    "\n",
    "Develop quadratic splines for the following data points in the following table.\n",
    "\n",
    "$$\n",
    "\\begin{array}{r|r|r}\n",
    "i & x_{i} & f(x_i)\\\\\n",
    "\\hline\n",
    "0 & -1.00 & -1.0000 \\\\\n",
    "1 & -0.65 & 0.3860 \\\\\n",
    "2 & 0.10 & 0.4802 \\\\\n",
    "3 & 0.40 & 0.8838 \\\\\n",
    "4 & 1.00 & 1.0000\n",
    "\\end{array}\n",
    "$$\n",
    "Using quadratic splines, estimate the value of $f(-0.3)$.\n",
    "\n",
    "You must show your work to get full credit, that means deriving the coefficients of the system that needs to be solved."
   ]
  },
  {
   "cell_type": "markdown",
   "metadata": {},
   "source": [
    "### Problem 6 Solution\n",
    "The 3$n$ (i.e. 12 equations ) are:\n",
    "\n",
    "At end points:\n",
    "$$a_1(-1)^2 + b_1 (-1) + c_1 = -1$$\n",
    "$$a_4(1)^2 + b_4 (1) + c_4 = 1$$\n",
    "\n",
    "At interior points:\n",
    "$$a_1(-.65)^2 + b_1 (-.65) + c_1 = .386$$\n",
    "$$a_2(-.65)^2 + b_2 (-.65) + c_2 = .386$$\n",
    "$$a_2(.1)^2 + b_2 (.1) + c_2 = .4802$$\n",
    "$$a_3(.1)^2 + b_3 (.1) + c_3 = .4802$$\n",
    "$$a_3(.4)^2 + b_3 (.4) + c_3 = .8838$$\n",
    "$$a_4(.4)^2 + b_4 (.4) + c_4 = .8838$$\n",
    "\n",
    "Derivatives at interior points:\n",
    "$$2a_1(-.65) + b_1 = 2a_2(-.65) + b_2$$\n",
    "$$2a_2(.1) + b_2 = 2a_3(.1) + b_3$$\n",
    "$$2a_3(.4) + b_3 = 2a_4(.4) + b_4$$\n",
    "\n",
    "Choosing the first spline to be linear:\n",
    "$$a_1 = 0$$"
   ]
  },
  {
   "cell_type": "code",
   "execution_count": 17,
   "metadata": {},
   "outputs": [
    {
     "name": "stdout",
     "output_type": "stream",
     "text": [
      "[ 3.96        2.96       -2.36539945  0.88498072  1.96061873 -5.28858586\n",
      "  6.73135354 -0.96256768 -5.41984848  7.78145455 -1.36160606]\n"
     ]
    }
   ],
   "source": [
    "A = np.array([[-1 , 1 , 0 , 0 , 0 , 0 , 0 , 0 , 0 , 0 , 0], \n",
    "              [ 0 , 0 , 0 , 0 , 0 , 0 , 0 , 0 , 1 , 1 , 1 ], \n",
    "              [-.65 , 1 , 0 , 0 , 0 , 0 , 0 , 0 , 0 , 0 , 0 ],\n",
    "              [0 , 0 , .4225 , -.65 , 1 , 0 , 0 , 0 , 0 , 0 , 0],\n",
    "              [0 , 0 , 1 , 1 , 1 , 0 , 0 , 0 , 0 , 0 , 0],\n",
    "              [0 , 0 , 0 , 0 , 0 , 1, 1 , 1 , 0 , 0 , 0],\n",
    "              [0 , 0 , 0 , 0 , 0 , .16 , .4 , 1 , 0 , 0 , 0],\n",
    "              [0 , 0 , 0 , 0 , 0 , 0 , 0 , 0 , .16 , .4 , 1],\n",
    "              [1 , 0 , 1.3 , -1 , 0 , 0 , 0 , 0 , 0 , 0 , 0],\n",
    "              [0 , 0 , 2 , 1 , 0 , -2 , -1 , 0 , 0 , 0 , 0],\n",
    "              [0 , 0 , 0 , 0 , 0 , 8 , 1 , 0 , -8 , -1 , 0 ]])\n",
    "\n",
    "b = np.array([ -1, 1, .386 , .386 , .4802 , .4802 , .8838 , .8838 , 0 , 0 ,0])\n",
    "x = np.linalg.solve(A,b)\n",
    "\n",
    "print(x)"
   ]
  },
  {
   "cell_type": "markdown",
   "metadata": {},
   "source": [
    "Since the equation of the splines are:\n",
    "\n",
    "$$f(x) = a_1 x^2 + b_1 x + c_1 $$\n",
    "$$f(x) = a_2 x^2 + b_2 x + c_2 $$\n",
    "$$f(x) = a_3 x^2 + b_3 x + c_3 $$\n",
    "$$f(x) = a_4 x^2 + b_4 x + c_4 $$\n",
    "\n",
    "We obtain, after plugging in the coefficients above that, the following expressions are for the equations of the splines:\n",
    "$$f(x) =  3.96 x + 2.96 $$\n",
    "$$f(x) =  -2.36539945x^2 +  0.88498072x + 1.96061873 $$\n",
    "$$f(x) = -5.28858586 x^2 + 6.73135354 x -0.96256768 $$\n",
    "$$f(x) = -5.41984848 x^2 + 7.78145455 x -1.36160606 $$\n",
    "\n",
    "Therefore \n",
    "$$f(-.03) = -2.36539945(-.03)^2 +  0.88498072(-.03) + 1.96061873  = 1.93194$$\n"
   ]
  },
  {
   "cell_type": "code",
   "execution_count": null,
   "metadata": {},
   "outputs": [],
   "source": []
  }
 ],
 "metadata": {
  "colab": {
   "name": "Assignment11_LastName_FirstName_Solution.ipynb",
   "provenance": []
  },
  "kernelspec": {
   "display_name": "Python 3 (ipykernel)",
   "language": "python",
   "name": "python3"
  },
  "language_info": {
   "codemirror_mode": {
    "name": "ipython",
    "version": 3
   },
   "file_extension": ".py",
   "mimetype": "text/x-python",
   "name": "python",
   "nbconvert_exporter": "python",
   "pygments_lexer": "ipython3",
   "version": "3.9.7"
  }
 },
 "nbformat": 4,
 "nbformat_minor": 1
}
